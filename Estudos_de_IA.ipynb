{
  "nbformat": 4,
  "nbformat_minor": 0,
  "metadata": {
    "colab": {
      "provenance": [],
      "toc_visible": true,
      "authorship_tag": "ABX9TyMnY/aqpKDbnSWTUjS+LX5j",
      "include_colab_link": true
    },
    "kernelspec": {
      "name": "python3",
      "display_name": "Python 3"
    },
    "language_info": {
      "name": "python"
    }
  },
  "cells": [
    {
      "cell_type": "markdown",
      "metadata": {
        "id": "view-in-github",
        "colab_type": "text"
      },
      "source": [
        "<a href=\"https://colab.research.google.com/github/josematiasdev/ComunidadeUncisal/blob/main/Estudos_de_IA.ipynb\" target=\"_parent\"><img src=\"https://colab.research.google.com/assets/colab-badge.svg\" alt=\"Open In Colab\"/></a>"
      ]
    },
    {
      "cell_type": "markdown",
      "source": [
        "# IA 1\n",
        "**Código antigo**\n"
      ],
      "metadata": {
        "id": "ZSBraJGjo1No"
      }
    },
    {
      "cell_type": "code",
      "execution_count": 1,
      "metadata": {
        "id": "PSrBY6haR0iQ"
      },
      "outputs": [],
      "source": [
        "borda = []\n",
        "problema = {\n",
        "    'Estado Inicial':'T',\n",
        "    'Estado Objetivo': 'TB',\n",
        "    'Acoes': {\n",
        "        1:['T','P',1],\n",
        "        2:['P','T',1],\n",
        "        3:['P','J',4],\n",
        "        4:['J','P',4],\n",
        "        5:['P','C',1],\n",
        "        6:['C','P',1],\n",
        "        7:['C','J',2],\n",
        "        8:['J','C',2],\n",
        "        9:['J','PV',5],\n",
        "        10:['PV','J',5],\n",
        "        11:['C','JA',5],\n",
        "        12:['JA','C',5],\n",
        "        13:['JA','PV',5],\n",
        "        14:['PV','JA',5],\n",
        "        15:['PV','CA',4],\n",
        "        16:['CA','PV',4],\n",
        "        17:['JA','CA',4],\n",
        "        18:['CA','JA',4],\n",
        "        19:['JA','F',4],\n",
        "        20:['F','JA',4],\n",
        "        21:['F','CA',6],\n",
        "        22:['CA','F',6],\n",
        "        23:['CA','S',5],\n",
        "        24:['S','CA',5],\n",
        "        25:['PI','F',2],\n",
        "        26:['F','PI',2],\n",
        "        27:['F','G',4],\n",
        "        28:['G','F',4],\n",
        "        29:['G','S',3],\n",
        "        30:['S','G',3],\n",
        "        31:['S','BB',6],\n",
        "        32:['BB','S',6],\n",
        "        33:['BB','TB',6],\n",
        "        34:['TB','BB',6],\n",
        "        35:['G','TB',9],\n",
        "        36:['TB','G',9],\n",
        "    }\n",
        "}\n",
        "\n"
      ]
    },
    {
      "cell_type": "code",
      "source": [
        "def criarNo(Estado,NoPai=None, Acao=0, Custo=0, Profundidade=0):\n",
        "    return {\"Estado\":Estado,\n",
        "              \"NoPai\":NoPai,\n",
        "              \"Acao\":Acao,\n",
        "              \"Custo\":Custo,\n",
        "              \"Profundidade\":Profundidade}\n",
        "     \n"
      ],
      "metadata": {
        "id": "ZpKx_ZfoR_k5"
      },
      "execution_count": 2,
      "outputs": []
    },
    {
      "cell_type": "code",
      "source": [
        "def verificaCaminho(caminho, borda):\n",
        "    bordaCopy = borda\n",
        "    if len(caminho) == 0:\n",
        "        no = borda.pop()\n",
        "    else:\n",
        "        for noB in borda:\n",
        "            aux = True\n",
        "            for noCaminho in caminho:\n",
        "                if noCaminho['Estado'] == noB['Estado']:\n",
        "                    aux = False\n",
        "            if aux:\n",
        "                bordaCopy.append(noB)\n",
        "        borda = bordaCopy\n",
        "        no = borda.pop()\n",
        "    return no, borda\n",
        "    \n"
      ],
      "metadata": {
        "id": "sXH7NMxtLGGY"
      },
      "execution_count": 3,
      "outputs": []
    },
    {
      "cell_type": "code",
      "source": [
        "def expandir(no, problema):\n",
        "    sucessores = []\n",
        "    for i in problema['Acoes']:\n",
        "        \n",
        "        if no['Estado']== problema['Acoes'][i][0]:\n",
        "            sucessor = criarNo(\n",
        "                problema['Acoes'][i][1],\n",
        "                problema['Acoes'][i][0], \n",
        "                i, \n",
        "                no['Custo'] + problema['Acoes'][i][2], \n",
        "                no['Profundidade'] + 1)\n",
        "            sucessores.append(sucessor)\n",
        "    return sucessores\n",
        "\n"
      ],
      "metadata": {
        "id": "g4-P9UZxUdVs"
      },
      "execution_count": 4,
      "outputs": []
    },
    {
      "cell_type": "code",
      "source": [
        "def busca_em_arvore(problema, borda):\n",
        "    caminho = []\n",
        "    solucao = []\n",
        "    borda.append(criarNo(problema[\"Estado Inicial\"]))\n",
        "    \n",
        "    while solucao == []:\n",
        "        print(borda)\n",
        "        if borda == []:\n",
        "            raise Exception(\"Erro\")\n",
        "        no, borda = verificaCaminho(caminho, borda)\n",
        "        caminho.append(no)\n",
        "        if no[\"Estado\"] == problema[\"Estado Objetivo\"]:\n",
        "            print(no)\n",
        "            solucao = caminho\n",
        "            return solucao\n",
        "        borda.extend(expandir(no, problema))\n",
        "        \n"
      ],
      "metadata": {
        "id": "N0iBDg7qUd9P"
      },
      "execution_count": 5,
      "outputs": []
    },
    {
      "cell_type": "code",
      "source": [
        "busca_em_arvore(problema, borda)\n"
      ],
      "metadata": {
        "colab": {
          "base_uri": "https://localhost:8080/",
          "height": 354
        },
        "id": "d9hCBrAgUeHB",
        "outputId": "37e5480f-5448-479e-efed-950de3ce5411"
      },
      "execution_count": 6,
      "outputs": [
        {
          "output_type": "stream",
          "name": "stdout",
          "text": [
            "[{'Estado': 'T', 'NoPai': None, 'Acao': 0, 'Custo': 0, 'Profundidade': 0}]\n",
            "[{'Estado': 'P', 'NoPai': 'T', 'Acao': 1, 'Custo': 1, 'Profundidade': 1}]\n"
          ]
        },
        {
          "output_type": "error",
          "ename": "KeyboardInterrupt",
          "evalue": "ignored",
          "traceback": [
            "\u001b[0;31m---------------------------------------------------------------------------\u001b[0m",
            "\u001b[0;31mKeyboardInterrupt\u001b[0m                         Traceback (most recent call last)",
            "\u001b[0;32m<ipython-input-6-c0a29f00a72d>\u001b[0m in \u001b[0;36m<module>\u001b[0;34m\u001b[0m\n\u001b[0;32m----> 1\u001b[0;31m \u001b[0mbusca_em_arvore\u001b[0m\u001b[0;34m(\u001b[0m\u001b[0mproblema\u001b[0m\u001b[0;34m,\u001b[0m \u001b[0mborda\u001b[0m\u001b[0;34m)\u001b[0m\u001b[0;34m\u001b[0m\u001b[0;34m\u001b[0m\u001b[0m\n\u001b[0m",
            "\u001b[0;32m<ipython-input-5-3d832b4aaba0>\u001b[0m in \u001b[0;36mbusca_em_arvore\u001b[0;34m(problema, borda)\u001b[0m\n\u001b[1;32m      8\u001b[0m         \u001b[0;32mif\u001b[0m \u001b[0mborda\u001b[0m \u001b[0;34m==\u001b[0m \u001b[0;34m[\u001b[0m\u001b[0;34m]\u001b[0m\u001b[0;34m:\u001b[0m\u001b[0;34m\u001b[0m\u001b[0;34m\u001b[0m\u001b[0m\n\u001b[1;32m      9\u001b[0m             \u001b[0;32mraise\u001b[0m \u001b[0mException\u001b[0m\u001b[0;34m(\u001b[0m\u001b[0;34m\"Erro\"\u001b[0m\u001b[0;34m)\u001b[0m\u001b[0;34m\u001b[0m\u001b[0;34m\u001b[0m\u001b[0m\n\u001b[0;32m---> 10\u001b[0;31m         \u001b[0mno\u001b[0m\u001b[0;34m,\u001b[0m \u001b[0mborda\u001b[0m \u001b[0;34m=\u001b[0m \u001b[0mverificaCaminho\u001b[0m\u001b[0;34m(\u001b[0m\u001b[0mcaminho\u001b[0m\u001b[0;34m,\u001b[0m \u001b[0mborda\u001b[0m\u001b[0;34m)\u001b[0m\u001b[0;34m\u001b[0m\u001b[0;34m\u001b[0m\u001b[0m\n\u001b[0m\u001b[1;32m     11\u001b[0m         \u001b[0mcaminho\u001b[0m\u001b[0;34m.\u001b[0m\u001b[0mappend\u001b[0m\u001b[0;34m(\u001b[0m\u001b[0mno\u001b[0m\u001b[0;34m)\u001b[0m\u001b[0;34m\u001b[0m\u001b[0;34m\u001b[0m\u001b[0m\n\u001b[1;32m     12\u001b[0m         \u001b[0;32mif\u001b[0m \u001b[0mno\u001b[0m\u001b[0;34m[\u001b[0m\u001b[0;34m\"Estado\"\u001b[0m\u001b[0;34m]\u001b[0m \u001b[0;34m==\u001b[0m \u001b[0mproblema\u001b[0m\u001b[0;34m[\u001b[0m\u001b[0;34m\"Estado Objetivo\"\u001b[0m\u001b[0;34m]\u001b[0m\u001b[0;34m:\u001b[0m\u001b[0;34m\u001b[0m\u001b[0;34m\u001b[0m\u001b[0m\n",
            "\u001b[0;32m<ipython-input-3-c323d04115fd>\u001b[0m in \u001b[0;36mverificaCaminho\u001b[0;34m(caminho, borda)\u001b[0m\n\u001b[1;32m      7\u001b[0m             \u001b[0maux\u001b[0m \u001b[0;34m=\u001b[0m \u001b[0;32mTrue\u001b[0m\u001b[0;34m\u001b[0m\u001b[0;34m\u001b[0m\u001b[0m\n\u001b[1;32m      8\u001b[0m             \u001b[0;32mfor\u001b[0m \u001b[0mnoCaminho\u001b[0m \u001b[0;32min\u001b[0m \u001b[0mcaminho\u001b[0m\u001b[0;34m:\u001b[0m\u001b[0;34m\u001b[0m\u001b[0;34m\u001b[0m\u001b[0m\n\u001b[0;32m----> 9\u001b[0;31m                 \u001b[0;32mif\u001b[0m \u001b[0mnoCaminho\u001b[0m\u001b[0;34m[\u001b[0m\u001b[0;34m'Estado'\u001b[0m\u001b[0;34m]\u001b[0m \u001b[0;34m==\u001b[0m \u001b[0mnoB\u001b[0m\u001b[0;34m[\u001b[0m\u001b[0;34m'Estado'\u001b[0m\u001b[0;34m]\u001b[0m\u001b[0;34m:\u001b[0m\u001b[0;34m\u001b[0m\u001b[0;34m\u001b[0m\u001b[0m\n\u001b[0m\u001b[1;32m     10\u001b[0m                     \u001b[0maux\u001b[0m \u001b[0;34m=\u001b[0m \u001b[0;32mFalse\u001b[0m\u001b[0;34m\u001b[0m\u001b[0;34m\u001b[0m\u001b[0m\n\u001b[1;32m     11\u001b[0m             \u001b[0;32mif\u001b[0m \u001b[0maux\u001b[0m\u001b[0;34m:\u001b[0m\u001b[0;34m\u001b[0m\u001b[0;34m\u001b[0m\u001b[0m\n",
            "\u001b[0;31mKeyboardInterrupt\u001b[0m: "
          ]
        }
      ]
    },
    {
      "cell_type": "markdown",
      "source": [
        "# IA 2\n",
        "**Codigo em desenvolviemnto com as aulas**"
      ],
      "metadata": {
        "id": "zikOe9uCpt1p"
      }
    },
    {
      "cell_type": "code",
      "execution_count": 7,
      "metadata": {
        "id": "T3twaUyrry2q"
      },
      "outputs": [],
      "source": [
        "problema = {\n",
        "    'Estado Inicial':'JC',\n",
        "    'Estado Objetivo': 'PB',\n",
        "    'Acoes': {\n",
        "        1:['PB','C',5],\n",
        "        2:['C','PB',5],\n",
        "        3:['C','JR',3],\n",
        "        4:['JR','C',3],\n",
        "        5:['JR','PJ',3],\n",
        "        6:['PJ','JR',3],\n",
        "        7:['PJ','PV',1],\n",
        "        8:['PV','PJ',1],\n",
        "        9:['PV','JT',2],\n",
        "        10:['JT','PV',2],\n",
        "        11:['PJ','P',2],\n",
        "        12:['P','PJ',2],\n",
        "        13:['M','P',2],\n",
        "        14:['P','M',2],\n",
        "        15:['C','P',2],\n",
        "        16:['P','C',2],\n",
        "        17:['M','JT',2],\n",
        "        18:['JT','M',2],\n",
        "        19:['JT','CA',3],\n",
        "        20: ['CA','JT',3],\n",
        "        21: ['CA','JC',2],\n",
        "        22: ['JC','CA',2],\n",
        "        23: ['M','J',3],\n",
        "        24: ['J','M',3],\n",
        "        25: ['J','PG',6],\n",
        "        26: ['PG','J',6],\n",
        "        27: ['PG','C',2],\n",
        "        28: ['C','PG', 2]\n",
        "    }\n",
        "}\n",
        "\n",
        "borda = []"
      ]
    },
    {
      "cell_type": "code",
      "source": [
        "def criaNo(estado, noPai=None, acao=None, custo=0, profundidade=0):\n",
        "    no = {}\n",
        "    no['Estado'] = estado\n",
        "    no['NoPai'] = noPai\n",
        "    no['Acao'] = acao\n",
        "    no['Custo'] = custo\n",
        "    no['Profundidade'] = profundidade\n",
        "    return no"
      ],
      "metadata": {
        "id": "VBLrSrYyZi-0"
      },
      "execution_count": 8,
      "outputs": []
    },
    {
      "cell_type": "code",
      "source": [
        "def busca_em_arvore(problema, borda):\n",
        "    borda.append(criaNo(problema['Estado Inicial']))\n",
        "    solucao = []\n",
        "    while solucao == []:\n",
        "        if borda == []:\n",
        "            raise Exception(\"Error\")\n",
        "    return borda\n"
      ],
      "metadata": {
        "id": "VPKPTyy6_O23"
      },
      "execution_count": 9,
      "outputs": []
    },
    {
      "cell_type": "code",
      "source": [
        "busca_em_arvore(problema, borda)"
      ],
      "metadata": {
        "colab": {
          "base_uri": "https://localhost:8080/",
          "height": 294
        },
        "id": "KjH71jkH6XAX",
        "outputId": "40072482-5a20-475c-89b4-768946935dc8"
      },
      "execution_count": 12,
      "outputs": [
        {
          "output_type": "error",
          "ename": "KeyboardInterrupt",
          "evalue": "ignored",
          "traceback": [
            "\u001b[0;31m---------------------------------------------------------------------------\u001b[0m",
            "\u001b[0;31mKeyboardInterrupt\u001b[0m                         Traceback (most recent call last)",
            "\u001b[0;32m<ipython-input-12-c0a29f00a72d>\u001b[0m in \u001b[0;36m<module>\u001b[0;34m\u001b[0m\n\u001b[0;32m----> 1\u001b[0;31m \u001b[0mbusca_em_arvore\u001b[0m\u001b[0;34m(\u001b[0m\u001b[0mproblema\u001b[0m\u001b[0;34m,\u001b[0m \u001b[0mborda\u001b[0m\u001b[0;34m)\u001b[0m\u001b[0;34m\u001b[0m\u001b[0;34m\u001b[0m\u001b[0m\n\u001b[0m",
            "\u001b[0;32m<ipython-input-9-3b7e2f62c11a>\u001b[0m in \u001b[0;36mbusca_em_arvore\u001b[0;34m(problema, borda)\u001b[0m\n\u001b[1;32m      3\u001b[0m     \u001b[0msolucao\u001b[0m \u001b[0;34m=\u001b[0m \u001b[0;34m[\u001b[0m\u001b[0;34m]\u001b[0m\u001b[0;34m\u001b[0m\u001b[0;34m\u001b[0m\u001b[0m\n\u001b[1;32m      4\u001b[0m     \u001b[0;32mwhile\u001b[0m \u001b[0msolucao\u001b[0m \u001b[0;34m==\u001b[0m \u001b[0;34m[\u001b[0m\u001b[0;34m]\u001b[0m\u001b[0;34m:\u001b[0m\u001b[0;34m\u001b[0m\u001b[0;34m\u001b[0m\u001b[0m\n\u001b[0;32m----> 5\u001b[0;31m         \u001b[0;32mif\u001b[0m \u001b[0mborda\u001b[0m \u001b[0;34m==\u001b[0m \u001b[0;34m[\u001b[0m\u001b[0;34m]\u001b[0m\u001b[0;34m:\u001b[0m\u001b[0;34m\u001b[0m\u001b[0;34m\u001b[0m\u001b[0m\n\u001b[0m\u001b[1;32m      6\u001b[0m             \u001b[0;32mraise\u001b[0m \u001b[0mException\u001b[0m\u001b[0;34m(\u001b[0m\u001b[0;34m\"Error\"\u001b[0m\u001b[0;34m)\u001b[0m\u001b[0;34m\u001b[0m\u001b[0;34m\u001b[0m\u001b[0m\n\u001b[1;32m      7\u001b[0m     \u001b[0;32mreturn\u001b[0m \u001b[0mborda\u001b[0m\u001b[0;34m\u001b[0m\u001b[0;34m\u001b[0m\u001b[0m\n",
            "\u001b[0;31mKeyboardInterrupt\u001b[0m: "
          ]
        }
      ]
    },
    {
      "cell_type": "markdown",
      "source": [
        "# Machine Learning\n",
        "**Estudo por conta própria**"
      ],
      "metadata": {
        "id": "lu0omfEArLEt"
      }
    },
    {
      "cell_type": "code",
      "source": [
        "## features (1 sim, 0 não)\n",
        " # pelo lomgo?\n",
        " # perna curta?\n",
        " # faz auau?\n",
        "\n",
        "porco1 = [0,1,0]\n",
        "porco2 = [0,1,1]\n",
        "porco3 = [1,1,0]\n",
        "\n",
        "cachorro1 = [0,1,1]\n",
        "cachorro2 = [1,0,1]\n",
        "cachorro3 = [1,1,1]"
      ],
      "metadata": {
        "id": "um0FIJhdrirT"
      },
      "execution_count": 38,
      "outputs": []
    },
    {
      "cell_type": "code",
      "source": [
        "# 1 => porco , 0 => cachorro\n",
        "train_x = [porco1,porco2,porco3,cachorro1,cachorro2,cachorro3]\n",
        "train_y = [1,1,1,0,0,0]\n"
      ],
      "metadata": {
        "id": "WXHjh3O0sZ-q"
      },
      "execution_count": 39,
      "outputs": []
    },
    {
      "cell_type": "code",
      "source": [
        "from sklearn.svm import LinearSVC\n",
        "model = LinearSVC()\n",
        "model.fit(train_x, train_y)\n",
        "\n",
        "animal_mitery = [1,1,1]\n",
        "model.predict([animal_mitery])"
      ],
      "metadata": {
        "colab": {
          "base_uri": "https://localhost:8080/"
        },
        "id": "eUg1NbJjsVw5",
        "outputId": "b5dfd676-1fe8-42c8-ef22-06acfc5b99fb"
      },
      "execution_count": 40,
      "outputs": [
        {
          "output_type": "execute_result",
          "data": {
            "text/plain": [
              "array([0])"
            ]
          },
          "metadata": {},
          "execution_count": 40
        }
      ]
    },
    {
      "cell_type": "code",
      "source": [
        "mistery1 = [1,1,1]\n",
        "mistery2 = [1,1,0]\n",
        "mistery3 = [0,1,1]\n",
        "test_x = [mistery1,mistery2, mistery3]\n",
        "test_y = [0,1,1]\n",
        "previsoes = model.predict(test_x)"
      ],
      "metadata": {
        "id": "HYhQ0hN3uhKV"
      },
      "execution_count": 41,
      "outputs": []
    },
    {
      "cell_type": "code",
      "source": [
        "corretos = (previsoes == test_y).sum()\n",
        "total = len(test_x)\n",
        "taxa_acertos = corretos/total\n",
        "print(\"Taxa de acertos: %.2f\"% (taxa_acertos * 100))\n"
      ],
      "metadata": {
        "colab": {
          "base_uri": "https://localhost:8080/"
        },
        "id": "wXVhFxwIvImY",
        "outputId": "d6decc1f-ea5d-443a-a73c-b8aecb57f84c"
      },
      "execution_count": 48,
      "outputs": [
        {
          "output_type": "stream",
          "name": "stdout",
          "text": [
            "Taxa de acertos: 66.67\n"
          ]
        }
      ]
    },
    {
      "cell_type": "code",
      "source": [
        "from sklearn.metrics import accuracy_score\n",
        "\n",
        "taxa_acertos = accuracy_score(test_y, previsoes)\n",
        "print(\"Taxa de acertos: %.2f\"% (taxa_acertos * 100))"
      ],
      "metadata": {
        "colab": {
          "base_uri": "https://localhost:8080/"
        },
        "id": "FbxbABzwwUvL",
        "outputId": "3e99f312-c098-4d63-afc4-ec2363cdba97"
      },
      "execution_count": 47,
      "outputs": [
        {
          "output_type": "stream",
          "name": "stdout",
          "text": [
            "Taxa de acertos: 66.67\n"
          ]
        }
      ]
    },
    {
      "cell_type": "code",
      "source": [],
      "metadata": {
        "id": "khk1Jn09zh_3"
      },
      "execution_count": null,
      "outputs": []
    }
  ]
}